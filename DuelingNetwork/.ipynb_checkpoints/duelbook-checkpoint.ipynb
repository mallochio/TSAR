version https://git-lfs.github.com/spec/v1
oid sha256:103116096569f525f15b09a09fbcce712d69456335730bbbdae016e91dece2d8
size 300777
